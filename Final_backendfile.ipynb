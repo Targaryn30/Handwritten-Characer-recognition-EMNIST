{
 "cells": [
  {
   "cell_type": "markdown",
   "metadata": {
    "colab_type": "text",
    "id": "Rlgf1scAQEgx"
   },
   "source": [
    "# To install Emnist dataset and import it\n",
    "\n",
    "---\n",
    "\n",
    " Download the EMNIST data-set for recognizing Hand-Written Alpha-Numeric Characters."
   ]
  },
  {
   "cell_type": "code",
   "execution_count": 0,
   "metadata": {
    "colab": {
     "base_uri": "https://localhost:8080/",
     "height": 34
    },
    "colab_type": "code",
    "id": "q9cX8CdhQVpM",
    "outputId": "d32c7ac5-3329-41a6-9dee-c98eb617ed8e"
   },
   "outputs": [
    {
     "name": "stdout",
     "output_type": "stream",
     "text": [
      "Requirement already satisfied: python-mnist in /usr/local/lib/python3.6/dist-packages (0.6)\n"
     ]
    }
   ],
   "source": [
    "!pip install python-mnist\n",
    "from mnist import MNIST"
   ]
  },
  {
   "cell_type": "markdown",
   "metadata": {
    "colab_type": "text",
    "id": "bGEj15h8QhN3"
   },
   "source": [
    "\n",
    "\n",
    "\n",
    "# To handle time-related tasks\n",
    "\n",
    "\n",
    "---\n",
    "\n",
    "\n",
    "\n",
    "\n",
    "\n"
   ]
  },
  {
   "cell_type": "code",
   "execution_count": 0,
   "metadata": {
    "colab": {},
    "colab_type": "code",
    "id": "yUV_fhnxQgDI"
   },
   "outputs": [],
   "source": [
    "import time"
   ]
  },
  {
   "cell_type": "markdown",
   "metadata": {
    "colab_type": "text",
    "id": "o-0401M4Q9x0"
   },
   "source": [
    "# Deliver non-fatal alerts to the user about issues encountered when running a program\n",
    "\n",
    "---\n",
    "\n"
   ]
  },
  {
   "cell_type": "code",
   "execution_count": 0,
   "metadata": {
    "colab": {},
    "colab_type": "code",
    "id": "_MGqXlZDQf_I"
   },
   "outputs": [],
   "source": [
    "import warnings\n",
    "warnings.filterwarnings('ignore')"
   ]
  },
  {
   "cell_type": "markdown",
   "metadata": {
    "colab_type": "text",
    "id": "w96OHxCRRQfF"
   },
   "source": [
    "# Importing Libraries\n",
    "\n",
    "---\n",
    "\n",
    "\n",
    "\n",
    "*   Tensorflow-TensorFlow is an open-source machine learning library for research and                                production. TensorFlow offers APIs to develop for desktop, mobile, web, and cloud. \n",
    "*   Matplotlib-Matplotlib is a Python 2D plotting library which produces publication quality figures in a variety of hardcopy formats and interactive environments across platforms. \n",
    "*   NumPy-NumPy is a general-purpose array-processing package. It provides a high-performance multidimensional array object, and tools for working with these arrays.\n",
    "\n"
   ]
  },
  {
   "cell_type": "code",
   "execution_count": 0,
   "metadata": {
    "colab": {},
    "colab_type": "code",
    "id": "HlGQcm0AQf8u"
   },
   "outputs": [],
   "source": [
    "import tensorflow as tf\n",
    "import matplotlib.pyplot as plt\n",
    "import numpy as np"
   ]
  },
  {
   "cell_type": "markdown",
   "metadata": {
    "colab_type": "text",
    "id": "8dcQhsKnSNg3"
   },
   "source": [
    "# Load Data\n",
    "\n",
    "---\n",
    "\n",
    "*  Create a new object instance: data = MNIST(data_dir=\"data/MNIST/\").\n",
    "    This automatically downloads the files to the given dir.\n",
    "     \n",
    "  \n",
    "*   Load the Training Images and Labels  into images , labels \n",
    "\n",
    "\n",
    "*   Load the Testing Images and Labels  into testIM , testLAB  \n",
    "\n"
   ]
  },
  {
   "cell_type": "code",
   "execution_count": 0,
   "metadata": {
    "colab": {},
    "colab_type": "code",
    "id": "8wFlXMkM5B1z"
   },
   "outputs": [],
   "source": [
    "emnist = MNIST('sample_data')\n",
    "images,labels = emnist.load_training()\n",
    "testIM,testLAB = emnist.load_testing()\n"
   ]
  },
  {
   "cell_type": "markdown",
   "metadata": {
    "colab_type": "text",
    "id": "tdnlq2y9Up5V"
   },
   "source": [
    "# Conversion of training data and testing data into Numpy arrays\n",
    "\n",
    "---\n",
    "\n"
   ]
  },
  {
   "cell_type": "code",
   "execution_count": 0,
   "metadata": {
    "colab": {},
    "colab_type": "code",
    "id": "QRUsANnp5MUJ"
   },
   "outputs": [],
   "source": [
    "n_images = np.array(images)\n",
    "n_labels = np.array(labels)\n",
    "testIM = np.array(testIM)\n",
    "testLAB = np.array(testLAB)"
   ]
  },
  {
   "cell_type": "markdown",
   "metadata": {
    "colab_type": "text",
    "id": "l6c3EDYMU-Dx"
   },
   "source": [
    "# Displaying the Numpy arrays\n",
    "\n",
    "---\n",
    "\n"
   ]
  },
  {
   "cell_type": "code",
   "execution_count": 0,
   "metadata": {
    "colab": {
     "base_uri": "https://localhost:8080/",
     "height": 286
    },
    "colab_type": "code",
    "id": "nGpH4mHMU8qV",
    "outputId": "0660dc53-872e-48fe-b3f3-f5fc0fabb6a1"
   },
   "outputs": [
    {
     "name": "stdout",
     "output_type": "stream",
     "text": [
      "[[0 0 0 ... 0 0 0]\n",
      " [0 0 0 ... 0 0 0]\n",
      " [0 0 0 ... 0 0 0]\n",
      " ...\n",
      " [0 0 0 ... 0 0 0]\n",
      " [0 0 0 ... 0 0 0]\n",
      " [0 0 0 ... 0 0 0]]\n",
      "[45 36 43 ... 23 31  8]\n",
      "[[0 0 0 ... 0 0 0]\n",
      " [0 0 0 ... 0 0 0]\n",
      " [0 0 0 ... 0 0 0]\n",
      " ...\n",
      " [0 0 0 ... 0 0 0]\n",
      " [0 0 0 ... 0 0 0]\n",
      " [0 0 0 ... 0 0 0]]\n",
      "[41 39  9 ...  1 26 33]\n"
     ]
    }
   ],
   "source": [
    "print(n_images)\n",
    "print(n_labels)\n",
    "print(testIM)\n",
    "print(testLAB)"
   ]
  },
  {
   "cell_type": "markdown",
   "metadata": {
    "colab_type": "text",
    "id": "AhpaE7bpVSJS"
   },
   "source": [
    "#Reshaping Image\n",
    "\n",
    "---\n",
    "\n",
    "\n",
    " Taking a random image NumPy array and reshaping it to 28x28 "
   ]
  },
  {
   "cell_type": "code",
   "execution_count": 0,
   "metadata": {
    "colab": {},
    "colab_type": "code",
    "id": "O8e83-qY5Rop"
   },
   "outputs": [],
   "source": [
    "n_images1 = n_images[19000].reshape(28,28)"
   ]
  },
  {
   "cell_type": "markdown",
   "metadata": {
    "colab_type": "text",
    "id": "8OLgecyjVhFd"
   },
   "source": [
    "# Plotting the image(n_image1) and showing it on Graph\n",
    "\n",
    "---\n",
    "\n"
   ]
  },
  {
   "cell_type": "code",
   "execution_count": 0,
   "metadata": {
    "colab": {
     "base_uri": "https://localhost:8080/",
     "height": 347
    },
    "colab_type": "code",
    "id": "1BcnhPuI5cff",
    "outputId": "cefbdc84-8edc-4bb6-a503-60b14cd05674"
   },
   "outputs": [
    {
     "data": {
      "image/png": "[encoded data removed]",
      "text/plain": [
       "<Figure size 576x396 with 1 Axes>"
      ]
     },
     "metadata": {
      "tags": []
     },
     "output_type": "display_data"
    }
   ],
   "source": [
    "plt.imshow(n_images1,cmap='gist_gray')\n",
    "plt.show()"
   ]
  },
  {
   "cell_type": "markdown",
   "metadata": {
    "colab_type": "text",
    "id": "Xw2A5OqvVyGI"
   },
   "source": [
    "# Printing pixel value of any random image\n",
    " \n",
    "\n",
    "---\n",
    " \n",
    "Here we consider  0th , 455th index  pixel value of an image"
   ]
  },
  {
   "cell_type": "code",
   "execution_count": 0,
   "metadata": {
    "colab": {
     "base_uri": "https://localhost:8080/",
     "height": 34
    },
    "colab_type": "code",
    "id": "pPLhvJII5ev2",
    "outputId": "4a5be686-6ec0-40d2-881f-c52b20a7774c"
   },
   "outputs": [
    {
     "data": {
      "text/plain": [
       "127"
      ]
     },
     "execution_count": 18,
     "metadata": {
      "tags": []
     },
     "output_type": "execute_result"
    }
   ],
   "source": [
    "n_images[0][455]"
   ]
  },
  {
   "cell_type": "markdown",
   "metadata": {
    "colab_type": "text",
    "id": "gzIx65QKWZ2U"
   },
   "source": [
    "# Min Max Scaler\n",
    "\n",
    "---\n",
    "\n",
    "\n",
    "\n",
    "* Importing Min Max Scaler from sklearn\n",
    "  \n",
    "*  Transforms features by scaling each feature to a given range.\n",
    "*   Applying Min Max Scaling on training images to fit the pixel value between 0 and 1\n",
    "\n"
   ]
  },
  {
   "cell_type": "code",
   "execution_count": 0,
   "metadata": {
    "colab": {},
    "colab_type": "code",
    "id": "Ol9IXIvD5lxQ"
   },
   "outputs": [],
   "source": [
    "from sklearn.preprocessing import MinMaxScaler\n",
    "scaler = MinMaxScaler()\n",
    "scaler.fit(n_images)\n",
    "train_images = scaler.transform(n_images)"
   ]
  },
  {
   "cell_type": "markdown",
   "metadata": {
    "colab_type": "text",
    "id": "gj2ekPbJhAmz"
   },
   "source": [
    "#Printing the  pixel of training image\n",
    "\n",
    "\n",
    "---\n",
    "\n",
    "The pixel value of the 0th,455th index image is printed between 0 and 1 after applying Min Max Scaler\n"
   ]
  },
  {
   "cell_type": "code",
   "execution_count": 0,
   "metadata": {
    "colab": {
     "base_uri": "https://localhost:8080/",
     "height": 34
    },
    "colab_type": "code",
    "id": "97G2Q0go5sWr",
    "outputId": "e75d5105-020e-4025-b97d-feff03bdf8cb"
   },
   "outputs": [
    {
     "data": {
      "text/plain": [
       "0.4980392156862745"
      ]
     },
     "execution_count": 20,
     "metadata": {
      "tags": []
     },
     "output_type": "execute_result"
    }
   ],
   "source": [
    "train_images[0][455]"
   ]
  },
  {
   "cell_type": "markdown",
   "metadata": {
    "colab_type": "text",
    "id": "jeCpgq85k305"
   },
   "source": [
    "# Min Max Scaling on test images\n",
    "\n",
    "---\n",
    "\n",
    "Applying Min Max Scaling on testing images to fit the pixel value between 0 and 1"
   ]
  },
  {
   "cell_type": "code",
   "execution_count": 0,
   "metadata": {
    "colab": {},
    "colab_type": "code",
    "id": "EaCB0N2x5wLc"
   },
   "outputs": [],
   "source": [
    "scaler.fit(testIM)\n",
    "test_images = scaler.transform(testIM)"
   ]
  },
  {
   "cell_type": "markdown",
   "metadata": {
    "colab_type": "text",
    "id": "CcPDqhnnipcC"
   },
   "source": [
    "# Printing the pixel of testing image\n",
    "\n",
    "---\n",
    "\n",
    "Here we consider the pixel value of 0,567th index image"
   ]
  },
  {
   "cell_type": "code",
   "execution_count": 0,
   "metadata": {
    "colab": {
     "base_uri": "https://localhost:8080/",
     "height": 34
    },
    "colab_type": "code",
    "id": "wZqv4sSl52m1",
    "outputId": "f9c3e99c-303f-4240-e6b9-0b38e6ccc8c7"
   },
   "outputs": [
    {
     "data": {
      "text/plain": [
       "163"
      ]
     },
     "execution_count": 22,
     "metadata": {
      "tags": []
     },
     "output_type": "execute_result"
    }
   ],
   "source": [
    "testIM[0][567]"
   ]
  },
  {
   "cell_type": "markdown",
   "metadata": {
    "colab_type": "text",
    "id": "5SMnWAX0jMpE"
   },
   "source": [
    "# Printing the random pixel of testing image\n",
    "\n",
    "---\n",
    "\n",
    "\n",
    "\n",
    "The pixel value of 0,567th index image is printed between 0 and 1 after applying Min Max Scaler"
   ]
  },
  {
   "cell_type": "code",
   "execution_count": 0,
   "metadata": {
    "colab": {
     "base_uri": "https://localhost:8080/",
     "height": 34
    },
    "colab_type": "code",
    "id": "bjCYuZUE56EB",
    "outputId": "19d72573-c8b4-4bc1-f308-ecae3ddddccd"
   },
   "outputs": [
    {
     "data": {
      "text/plain": [
       "0.6392156862745098"
      ]
     },
     "execution_count": 23,
     "metadata": {
      "tags": []
     },
     "output_type": "execute_result"
    }
   ],
   "source": [
    "test_images[0][567]"
   ]
  },
  {
   "cell_type": "markdown",
   "metadata": {
    "colab_type": "text",
    "id": "LBGHZ7X0mONp"
   },
   "source": [
    "# Printing total training and testing images\n",
    "\n",
    "---\n",
    "\n"
   ]
  },
  {
   "cell_type": "code",
   "execution_count": 0,
   "metadata": {
    "colab": {
     "base_uri": "https://localhost:8080/",
     "height": 84
    },
    "colab_type": "code",
    "id": "qv0NYLnO59MA",
    "outputId": "4872f1a8-9a5f-4942-b344-fa4bb3464919"
   },
   "outputs": [
    {
     "name": "stdout",
     "output_type": "stream",
     "text": [
      "112800\n",
      "18800\n",
      "112800\n",
      "18800\n"
     ]
    }
   ],
   "source": [
    "print(len(train_images))\n",
    "print(len(test_images))\n",
    "print(len(n_labels))\n",
    "print(len(testLAB))"
   ]
  },
  {
   "cell_type": "markdown",
   "metadata": {
    "colab_type": "text",
    "id": "GCQkr5YemitI"
   },
   "source": [
    "# Storing the training  images and labels,testing images and labels\n",
    "\n",
    "---\n",
    "\n",
    "\n",
    "\n",
    "\n"
   ]
  },
  {
   "cell_type": "code",
   "execution_count": 0,
   "metadata": {
    "colab": {
     "base_uri": "https://localhost:8080/",
     "height": 84
    },
    "colab_type": "code",
    "id": "92drEM406CD0",
    "outputId": "98e3b898-9ef2-41a1-bf92-1fa00f61ebcf"
   },
   "outputs": [
    {
     "name": "stdout",
     "output_type": "stream",
     "text": [
      "Stored 'n_images' (ndarray)\n",
      "Stored 'n_labels' (ndarray)\n",
      "Stored 'testIM' (ndarray)\n",
      "Stored 'testLAB' (ndarray)\n"
     ]
    }
   ],
   "source": [
    "%store n_images\n",
    "%store n_labels\n",
    "%store testIM \n",
    "%store testLAB"
   ]
  },
  {
   "cell_type": "markdown",
   "metadata": {
    "colab_type": "text",
    "id": "_aXoUtHRwIY4"
   },
   "source": [
    "# Printing the  value of label of any random training image\n",
    "\n",
    "---\n",
    "\n"
   ]
  },
  {
   "cell_type": "code",
   "execution_count": 0,
   "metadata": {
    "colab": {
     "base_uri": "https://localhost:8080/",
     "height": 34
    },
    "colab_type": "code",
    "id": "LkXURRpz6FmX",
    "outputId": "0aaea51c-6318-476c-d80f-488c9f8d362f"
   },
   "outputs": [
    {
     "data": {
      "text/plain": [
       "36"
      ]
     },
     "execution_count": 26,
     "metadata": {
      "tags": []
     },
     "output_type": "execute_result"
    }
   ],
   "source": [
    "n_labels[11200]"
   ]
  },
  {
   "cell_type": "markdown",
   "metadata": {
    "colab_type": "text",
    "id": "NvCsZoLInABA"
   },
   "source": [
    "# One Hot Enoding of Labels\n",
    "\n",
    "---\n",
    "\n",
    "*  The output-data is loaded as both integer class-numbers and so-called One-Hot encoded arrays. This means the class-numbers have been converted from a single integer to a vector whose length equals the number of possible classes. All elements of the vector are zero except for the $i$'th element which is 1 and means the class is $i$. For example, the One-Hot encoded labels for the first 5 images in the test-set are:\n",
    "\n",
    "\n",
    "* One hot encoding is a process by which categorical variables are converted into a form that could be provided to ML algorithms to do a better job in prediction.\n",
    "\n",
    "\n",
    "* Converting into a sparse matrix(A sparse matrix is a matrix in which many or most of the elements have a value of zero. This is in contrast to a dense matrix, where many or most of the elements have a non-zero value.)"
   ]
  },
  {
   "cell_type": "code",
   "execution_count": 0,
   "metadata": {
    "colab": {},
    "colab_type": "code",
    "id": "5FvWRckW6KD0"
   },
   "outputs": [],
   "source": [
    "from sklearn.preprocessing import OneHotEncoder"
   ]
  },
  {
   "cell_type": "code",
   "execution_count": 0,
   "metadata": {
    "colab": {
     "base_uri": "https://localhost:8080/",
     "height": 34
    },
    "colab_type": "code",
    "id": "xDf1Pb-K6UM2",
    "outputId": "d389b286-cd81-457f-e83c-93dca5a0c7ee"
   },
   "outputs": [
    {
     "data": {
      "text/plain": [
       "45"
      ]
     },
     "execution_count": 28,
     "metadata": {
      "tags": []
     },
     "output_type": "execute_result"
    }
   ],
   "source": [
    "n_labels[0]"
   ]
  },
  {
   "cell_type": "code",
   "execution_count": 0,
   "metadata": {
    "colab": {},
    "colab_type": "code",
    "id": "uiVgqWow6bEx"
   },
   "outputs": [],
   "source": [
    "shaped_n_labels  = n_labels.reshape(-1,1)\n",
    "enc = OneHotEncoder()\n",
    "enc.fit(shaped_n_labels)\n",
    "train_labels = enc.transform(shaped_n_labels).toarray()"
   ]
  },
  {
   "cell_type": "code",
   "execution_count": 0,
   "metadata": {
    "colab": {
     "base_uri": "https://localhost:8080/",
     "height": 67
    },
    "colab_type": "code",
    "id": "faP0MBAs6dvP",
    "outputId": "9b29d044-05c4-4e09-a4c1-5f1481e59a00"
   },
   "outputs": [
    {
     "data": {
      "text/plain": [
       "array([0., 0., 0., 0., 0., 0., 0., 0., 0., 0., 0., 0., 0., 0., 0., 0., 0.,\n",
       "       0., 0., 0., 0., 0., 0., 0., 0., 0., 0., 0., 0., 0., 0., 0., 0., 0.,\n",
       "       0., 0., 0., 0., 0., 0., 0., 0., 0., 0., 0., 1., 0.])"
      ]
     },
     "execution_count": 30,
     "metadata": {
      "tags": []
     },
     "output_type": "execute_result"
    }
   ],
   "source": [
    "train_labels[0]"
   ]
  },
  {
   "cell_type": "code",
   "execution_count": 0,
   "metadata": {
    "colab": {},
    "colab_type": "code",
    "id": "brag20X_p3iR"
   },
   "outputs": [],
   "source": [
    "shaped_testLAB = testLAB.reshape(-1,1)\n",
    "enc.fit(shaped_testLAB)\n",
    "test_labels = enc.transform(shaped_testLAB).toarray()"
   ]
  },
  {
   "cell_type": "code",
   "execution_count": 0,
   "metadata": {
    "colab": {
     "base_uri": "https://localhost:8080/",
     "height": 67
    },
    "colab_type": "code",
    "id": "3V90zAFX6jpX",
    "outputId": "b2b429fa-a30f-4b38-ca27-fd5d4964a3b3"
   },
   "outputs": [
    {
     "data": {
      "text/plain": [
       "array([0., 0., 0., 0., 0., 0., 0., 0., 0., 0., 0., 0., 0., 0., 0., 0., 0.,\n",
       "       0., 0., 0., 0., 0., 0., 0., 0., 0., 0., 0., 0., 0., 0., 0., 0., 0.,\n",
       "       0., 0., 0., 0., 0., 0., 0., 1., 0., 0., 0., 0., 0.])"
      ]
     },
     "execution_count": 32,
     "metadata": {
      "tags": []
     },
     "output_type": "execute_result"
    }
   ],
   "source": [
    "test_labels[0]\n",
    "\n"
   ]
  },
  {
   "cell_type": "markdown",
   "metadata": {
    "colab_type": "text",
    "id": "ExwA5vNNnWyM"
   },
   "source": [
    "# Convolutional Neural Network(CNN) Model Building\n",
    "\n",
    "---\n",
    "## CNN Overview\n",
    "\n",
    "![CNN](http://personal.ie.cuhk.edu.hk/~ccloy/project_target_code/images/fig3.png)\n",
    "\n",
    "Convolutional neural networks (CNNs) are the current state-of-the-art model architecture for image classification tasks. CNNs apply a series of filters to the raw pixel data of an image to extract and learn higher-level features, which the model can then use for classification.CNNs contains three components:\n",
    "\n",
    "* Convolutional layers, which apply a specified number of convolution filters to the image. For each subregion, the layer performs a set of mathematical operations to produce a single value in the output feature map. Convolutional layers then typically apply a ReLU activation function to the output to introduce nonlinearities into the model.\n",
    "\n",
    "\n",
    "*  Pooling layers, which downsample the image data extracted by the convolutional layers to reduce the dimensionality of the feature map in order to decrease processing time. A commonly used pooling algorithm is max pooling, which extracts subregions of the feature map (e.g., 2x2-pixel tiles), keeps their maximum value, and discards all other values.\n",
    "\n",
    "\n",
    "*  Dense (fully connected) layers, which perform classification on the features extracted by the convolutional layers and downsampled by the pooling layers. In a dense layer, every node in the layer is connected to every node in the preceding layer.\n",
    "\n",
    "\n",
    "\n",
    "\n",
    "\n",
    "\n"
   ]
  },
  {
   "cell_type": "markdown",
   "metadata": {
    "colab_type": "text",
    "id": "L5vayBeIZh_Z"
   },
   "source": [
    "# Methods to create each of the layer\n",
    "\n",
    "---\n",
    "*  init_weights().To initialize the weights of the Layer.\n",
    "\n",
    "*  init_bias().To initialize bias for each Layer.\n",
    "\n",
    "* conv2d(). Constructs a two-dimensional convolutional layer. Takes number of filters, filter kernel size, padding, and activation function as arguments.\n",
    "\n",
    "*  max_pooling_2by2(). Constructs a two-dimensional pooling layer using the max-pooling algorithm. Takes pooling filter size and stride as arguments.\n",
    "\n",
    "*  convolutional_layer():Constructs a convolution layer,calling function conv2d().Takes input shape ,kernal size,strides as input.\n",
    "\n",
    "* normal_full_layer(). Constructs a dense layer. Takes number of neurons and activation function as arguments."
   ]
  },
  {
   "cell_type": "code",
   "execution_count": 0,
   "metadata": {
    "colab": {},
    "colab_type": "code",
    "id": "WkdnDv9s6pqd"
   },
   "outputs": [],
   "source": [
    "# initialising weights\n",
    "def init_weights(shape):\n",
    "    init_random_dist = tf.truncated_normal(shape,stddev=0.1)\n",
    "    return tf.Variable(init_random_dist)\n",
    "# initialising bias\n",
    "def init_bias(shape):\n",
    "    init_bias_vals = tf.constant(0.1,shape=shape)\n",
    "    return tf.Variable(init_bias_vals)\n",
    "#conv2d\n",
    "def conv2d(x,W):\n",
    "    #x -> [bias,height,width,channels]\n",
    "    #W -> [Filter H,filter W,Channel In,Channel Out]\n",
    "    return tf.nn.conv2d(x,W,strides=[1,1,1,1],padding='SAME')\n",
    "#pooling layer\n",
    "def max_pool_2by2(x):\n",
    "    return tf.nn.max_pool(x,ksize=[1,2,2,1],strides=[1,2,2,1],padding='SAME')\n",
    "#Convolutional layer\n",
    "def convolutional_layer(input_x,shape):\n",
    "    W=init_weights(shape)\n",
    "    bias = init_bias([shape[3]])\n",
    "    return tf.nn.relu(conv2d(input_x,W)+bias)\n",
    "#Fully connected layer\n",
    "def normal_full_layer(input_layer,size):\n",
    "    input_size = int(input_layer.get_shape()[1])\n",
    "    W = init_weights([input_size,size])\n",
    "    bias = init_bias([size])\n",
    "    return tf.matmul(input_layer,W) + bias"
   ]
  },
  {
   "cell_type": "markdown",
   "metadata": {
    "colab_type": "text",
    "id": "8wUvAq4an8iI"
   },
   "source": [
    "# Building the CNN EMNIST Classifier\n",
    "\n",
    "---\n",
    "*  Convolutional Layer #1: Applies 32 5x5 filters (extracting 5x5-pixel subregions), with ReLU activation function.Image size remains 28 X 28\n",
    "\n",
    "*  Pooling Layer #1: Performs max pooling with a 2x2 filter and stride of 2 (which specifies that pooled regions do not overlap).Image size reduces  to 14 X 14\n",
    "\n",
    "*  Convolutional Layer #2: Applies 64 5x5 filters, with ReLU activation function.Image size remains 14 X 14\n",
    "\n",
    "* Pooling Layer #2: Again, performs max pooling with a 2x2 filter and stride of 2.mage size reduces  to 7 X 7\n",
    "\n",
    "*  Fully Connected Layer: Neurons in a fully connected layer have full connections to all activations in the previous layer\n",
    "\n",
    "*    Dense Layer #1: 1,024 neurons, with dropout regularization rate of 0.5 (probability of 0.5 that any given element will be dropped during training)\n",
    "\n",
    "\n",
    "*  Dense Layer #2 (Logits Layer): 47 neurons, one for each alphanumeric target class (0–9 , A-Z , a-z)\n",
    "\n",
    "\n",
    "\n"
   ]
  },
  {
   "cell_type": "code",
   "execution_count": 0,
   "metadata": {
    "colab": {},
    "colab_type": "code",
    "id": "7C8kmwyd6tsN"
   },
   "outputs": [],
   "source": [
    "#placeholders\n",
    "x = tf.placeholder(tf.float32,shape=[None,784])\n",
    "y_true=tf.placeholder(tf.float32,shape=[None,47])\n",
    "\n",
    "#layers(input)\n",
    "x_image = tf.reshape(x,[-1,28,28,1])\n",
    "\n",
    "#first convolutional layer\n",
    "convo_1 = convolutional_layer(x_image,shape=[5,5,1,32])\n",
    "convo_1_pooling = max_pool_2by2(convo_1)\n",
    "\n",
    "#second convolutional layer\n",
    "convo_2 = convolutional_layer(convo_1_pooling,shape=[5,5,32,64])\n",
    "convo_2_pooling = max_pool_2by2(convo_2)\n",
    "\n",
    "#fully connected layer\n",
    "convo_flat = tf.reshape(convo_2_pooling,[-1,7*7*64])\n",
    "full_layer_one = tf.nn.relu(normal_full_layer(convo_flat,1024))\n",
    " \n",
    "#drop out (used to overcome overfitting)\n",
    "\n",
    "hold_prob = tf.placeholder(tf.float32)\n",
    "full_one_dropout = tf.nn.dropout(full_layer_one,keep_prob=hold_prob)\n",
    "\n",
    "#Logits Layer\n",
    "y_pred =normal_full_layer(full_one_dropout,47)"
   ]
  },
  {
   "cell_type": "markdown",
   "metadata": {
    "colab_type": "text",
    "id": "6mvulIwFoJwX"
   },
   "source": [
    "# Loss & Optimization\n",
    "\n",
    "---\n",
    "*   Loss function that measures how closely the model's predictions match the target classes. For multiclass classification problems like  EMNIST, cross entropy is typically used as the loss metric\n",
    "\n",
    "*  Optimizers shape and mold your model into its most accurate possible form by futzing with the weights.To optimize our cost, we will use the AdamOptimizer, which is a popular optimizer along with others like Stochastic Gradient Descent and AdaGrad.\n",
    "\n",
    "\n",
    "\n",
    "\n"
   ]
  },
  {
   "cell_type": "code",
   "execution_count": 0,
   "metadata": {
    "colab": {},
    "colab_type": "code",
    "id": "3L3fRD0E6wzB"
   },
   "outputs": [],
   "source": [
    "import tensorflow.contrib.slim as slim\n",
    "\n",
    "#Loss Function \n",
    "cross_entropy = tf.reduce_mean(tf.nn.softmax_cross_entropy_with_logits(labels=y_true,logits = y_pred))\n",
    "\n",
    "#optimizer\n",
    "optimizer = tf.train.AdamOptimizer(learning_rate = 0.001)\n",
    "train =optimizer.minimize(cross_entropy)\n",
    "\n",
    "#initialise variables to execute it\n",
    "init = tf.global_variables_initializer()\n",
    "\n",
    "steps = 5000"
   ]
  },
  {
   "cell_type": "markdown",
   "metadata": {
    "colab_type": "text",
    "id": "QEqZyp-fovJW"
   },
   "source": [
    "# Saving the model\n",
    "\n",
    "---\n",
    "\n",
    "\n",
    "\n",
    "Saving and restoring the model"
   ]
  },
  {
   "cell_type": "code",
   "execution_count": 0,
   "metadata": {
    "colab": {},
    "colab_type": "code",
    "id": "Xn8ieTll6zkx"
   },
   "outputs": [],
   "source": [
    "saver = tf.train.Saver()"
   ]
  },
  {
   "cell_type": "markdown",
   "metadata": {
    "colab_type": "text",
    "id": "4OmpEngKuGfZ"
   },
   "source": [
    "# Training the model\n",
    "\n",
    "---\n",
    "\n",
    "*   A Session object encapsulates the environment in which Operation objects are executed, and Tensor objects are evaluated\n",
    "*   Defining session in which all variables that were declared are initialized\n",
    "*   Traing the model for 5000 epochs to calculate accuracy for a batch size of 120      images\n",
    "*   Printing the accuracy for every 100th epoch\n",
    "*   Saving the checkpoints of the model after training is done.\n",
    "\n",
    "\n",
    "\n"
   ]
  },
  {
   "cell_type": "code",
   "execution_count": 0,
   "metadata": {
    "colab": {
     "base_uri": "https://localhost:8080/",
     "height": 3377
    },
    "colab_type": "code",
    "id": "nmeEr_OX63LU",
    "outputId": "fd5ac888-7d50-41d7-f8a4-474806420a1a"
   },
   "outputs": [
    {
     "name": "stdout",
     "output_type": "stream",
     "text": [
      "On step: 0\n",
      "Accuracy obtained at 0 is 0.03015957400202751 & loss is 9.675278663635254\n",
      "\n",
      "\n",
      "On step: 100\n",
      "Accuracy obtained at 100 is 0.6880850791931152 & loss is 1.0950714349746704\n",
      "\n",
      "\n",
      "On step: 200\n",
      "Accuracy obtained at 200 is 0.765744686126709 & loss is 0.7689515352249146\n",
      "\n",
      "\n",
      "On step: 300\n",
      "Accuracy obtained at 300 is 0.7971276640892029 & loss is 0.6401501297950745\n",
      "\n",
      "\n",
      "On step: 400\n",
      "Accuracy obtained at 400 is 0.8101595640182495 & loss is 0.5868988037109375\n",
      "\n",
      "\n",
      "On step: 500\n",
      "Accuracy obtained at 500 is 0.8248404264450073 & loss is 0.5331277251243591\n",
      "\n",
      "\n",
      "On step: 600\n",
      "Accuracy obtained at 600 is 0.8256914615631104 & loss is 0.5241981744766235\n",
      "\n",
      "\n",
      "On step: 700\n",
      "Accuracy obtained at 700 is 0.8314893841743469 & loss is 0.49994805455207825\n",
      "\n",
      "\n",
      "On step: 800\n",
      "Accuracy obtained at 800 is 0.840638279914856 & loss is 0.4738124907016754\n",
      "\n",
      "\n",
      "On step: 900\n",
      "Accuracy obtained at 900 is 0.8463298082351685 & loss is 0.4547977149486542\n",
      "\n",
      "\n",
      "On step: 1000\n",
      "Accuracy obtained at 1000 is 0.8419148921966553 & loss is 0.4544812738895416\n",
      "\n",
      "\n",
      "On step: 1100\n",
      "Accuracy obtained at 1100 is 0.8477127552032471 & loss is 0.447603315114975\n",
      "\n",
      "\n",
      "On step: 1200\n",
      "Accuracy obtained at 1200 is 0.8484574556350708 & loss is 0.4395334720611572\n",
      "\n",
      "\n",
      "On step: 1300\n",
      "Accuracy obtained at 1300 is 0.8577659726142883 & loss is 0.4136386215686798\n",
      "\n",
      "\n",
      "On step: 1400\n",
      "Accuracy obtained at 1400 is 0.8575000166893005 & loss is 0.41197097301483154\n",
      "\n",
      "\n",
      "On step: 1500\n",
      "Accuracy obtained at 1500 is 0.8588829636573792 & loss is 0.40862512588500977\n",
      "\n",
      "\n",
      "On step: 1600\n",
      "Accuracy obtained at 1600 is 0.8603191375732422 & loss is 0.40369632840156555\n",
      "\n",
      "\n",
      "On step: 1700\n",
      "Accuracy obtained at 1700 is 0.8602127432823181 & loss is 0.4033367931842804\n",
      "\n",
      "\n",
      "On step: 1800\n",
      "Accuracy obtained at 1800 is 0.8659042716026306 & loss is 0.39479222893714905\n",
      "\n",
      "\n",
      "On step: 1900\n",
      "Accuracy obtained at 1900 is 0.8640425801277161 & loss is 0.39779940247535706\n",
      "\n",
      "\n",
      "On step: 2000\n",
      "Accuracy obtained at 2000 is 0.8682978749275208 & loss is 0.39598965644836426\n",
      "\n",
      "\n",
      "On step: 2100\n",
      "Accuracy obtained at 2100 is 0.8670744895935059 & loss is 0.3906026780605316\n",
      "\n",
      "\n",
      "On step: 2200\n",
      "Accuracy obtained at 2200 is 0.8686702251434326 & loss is 0.38200506567955017\n",
      "\n",
      "\n",
      "On step: 2300\n",
      "Accuracy obtained at 2300 is 0.8696808218955994 & loss is 0.3741135597229004\n",
      "\n",
      "\n",
      "On step: 2400\n",
      "Accuracy obtained at 2400 is 0.8676064014434814 & loss is 0.3768939971923828\n",
      "\n",
      "\n",
      "On step: 2500\n",
      "Accuracy obtained at 2500 is 0.867446780204773 & loss is 0.38235148787498474\n",
      "\n",
      "\n",
      "On step: 2600\n",
      "Accuracy obtained at 2600 is 0.871648907661438 & loss is 0.3766275942325592\n",
      "\n",
      "\n",
      "On step: 2700\n",
      "Accuracy obtained at 2700 is 0.8705319166183472 & loss is 0.37619203329086304\n",
      "\n",
      "\n",
      "On step: 2800\n",
      "Accuracy obtained at 2800 is 0.8708510398864746 & loss is 0.3710554838180542\n",
      "\n",
      "\n",
      "On step: 2900\n",
      "Accuracy obtained at 2900 is 0.8737233877182007 & loss is 0.3656904101371765\n",
      "\n",
      "\n",
      "On step: 3000\n",
      "Accuracy obtained at 3000 is 0.8754787445068359 & loss is 0.36007633805274963\n",
      "\n",
      "\n",
      "On step: 3100\n",
      "Accuracy obtained at 3100 is 0.8703723549842834 & loss is 0.36549848318099976\n",
      "\n",
      "\n",
      "On step: 3200\n",
      "Accuracy obtained at 3200 is 0.8761170506477356 & loss is 0.35869845747947693\n",
      "\n",
      "\n",
      "On step: 3300\n",
      "Accuracy obtained at 3300 is 0.873085081577301 & loss is 0.36612528562545776\n",
      "\n",
      "\n",
      "On step: 3400\n",
      "Accuracy obtained at 3400 is 0.8770212531089783 & loss is 0.3556792438030243\n",
      "\n",
      "\n",
      "On step: 3500\n",
      "Accuracy obtained at 3500 is 0.8719149231910706 & loss is 0.3663659393787384\n",
      "\n",
      "\n",
      "On step: 3600\n",
      "Accuracy obtained at 3600 is 0.8755319118499756 & loss is 0.3530517518520355\n",
      "\n",
      "\n",
      "On step: 3700\n",
      "Accuracy obtained at 3700 is 0.8726595640182495 & loss is 0.36060696840286255\n",
      "\n",
      "\n",
      "On step: 3800\n",
      "Accuracy obtained at 3800 is 0.877765953540802 & loss is 0.351748526096344\n",
      "\n",
      "\n",
      "On step: 3900\n",
      "Accuracy obtained at 3900 is 0.8745212554931641 & loss is 0.3556767404079437\n",
      "\n",
      "\n",
      "On step: 4000\n",
      "Accuracy obtained at 4000 is 0.8799468278884888 & loss is 0.3497566282749176\n",
      "\n",
      "\n",
      "On step: 4100\n",
      "Accuracy obtained at 4100 is 0.876914918422699 & loss is 0.3485930263996124\n",
      "\n",
      "\n",
      "On step: 4200\n",
      "Accuracy obtained at 4200 is 0.8767552971839905 & loss is 0.3505895137786865\n",
      "\n",
      "\n",
      "On step: 4300\n",
      "Accuracy obtained at 4300 is 0.8756914734840393 & loss is 0.35336029529571533\n",
      "\n",
      "\n",
      "On step: 4400\n",
      "Accuracy obtained at 4400 is 0.8777127861976624 & loss is 0.35411500930786133\n",
      "\n",
      "\n",
      "On step: 4500\n",
      "Accuracy obtained at 4500 is 0.8784574270248413 & loss is 0.3506074845790863\n",
      "\n",
      "\n",
      "On step: 4600\n",
      "Accuracy obtained at 4600 is 0.877765953540802 & loss is 0.3528054356575012\n",
      "\n",
      "\n",
      "On step: 4700\n",
      "Accuracy obtained at 4700 is 0.8762233853340149 & loss is 0.36304691433906555\n",
      "\n",
      "\n",
      "On step: 4800\n",
      "Accuracy obtained at 4800 is 0.8793085217475891 & loss is 0.34773218631744385\n",
      "\n",
      "\n",
      "On step: 4900\n",
      "Accuracy obtained at 4900 is 0.879680871963501 & loss is 0.3525305390357971\n",
      "\n",
      "\n"
     ]
    }
   ],
   "source": [
    "validation_train_accuracy_results = []\n",
    "training_test_loss_results = []\n",
    "training_train_accuracy_results = []\n",
    "validation_test_loss_results = []\n",
    "start = time.time()\n",
    "with tf.Session() as sess:\n",
    "    sess.run(init)\n",
    "    batch_size = 120\n",
    "    for i in range(steps):\n",
    "        rand_ind = np.random.randint(len(train_images),size=batch_size)\n",
    "        feed = {x:train_images[rand_ind],y_true:train_labels[rand_ind],hold_prob:0.5}\n",
    "        sess.run(train,feed_dict=feed)\n",
    "       \n",
    "        \n",
    "        if i%100 == 0:\n",
    "            \n",
    "            print(\"On step: {}\".format(i))\n",
    "            match = tf.equal(tf.argmax(y_pred,1),tf.argmax(y_true,1))\n",
    "            acc = tf.reduce_mean(tf.cast(match,tf.float32))\n",
    "            \n",
    "            \n",
    "            print(\"Accuracy obtained at {x} is {y} & loss is {z}\".format(x=i,y=sess.run(acc,feed_dict={x:test_images,y_true:test_labels,hold_prob:1.0}),z=sess.run(cross_entropy,feed_dict= {x:test_images,y_true:test_labels,hold_prob:1.0})))\n",
    "            validation_train_accuracy_results.append(sess.run(acc,feed_dict={x:test_images,y_true:test_labels,hold_prob:1.0}))\n",
    "            training_train_accuracy_results.append(sess.run(acc,feed_dict={x:train_images[rand_ind],y_true:train_labels[rand_ind],hold_prob:0.5}))\n",
    "            training_test_loss_results.append(sess.run(cross_entropy, feed_dict={x:train_images[rand_ind],y_true:train_labels[rand_ind],hold_prob:0.5}))\n",
    "            validation_test_loss_results.append(sess.run(cross_entropy, feed_dict={x:test_images,y_true:test_labels,hold_prob:1.0}))\n",
    "            print('\\n')\n",
    "    saver.save(sess,'model/cnn_model_1_with_tamil.ckpt')\n",
    "end = time.time()\n",
    "        "
   ]
  },
  {
   "cell_type": "markdown",
   "metadata": {
    "colab_type": "text",
    "id": "IfWGMXHhYtuz"
   },
   "source": [
    "# Declaring an array "
   ]
  },
  {
   "cell_type": "code",
   "execution_count": 0,
   "metadata": {
    "colab": {
     "base_uri": "https://localhost:8080/",
     "height": 34
    },
    "colab_type": "code",
    "id": "zTHVmHR7pJB_",
    "outputId": "13fb2aec-e2f1-4d46-a12d-6497e42825e4"
   },
   "outputs": [
    {
     "data": {
      "text/plain": [
       "<tf.Operation 'PrintV2' type=PrintV2>"
      ]
     },
     "execution_count": 113,
     "metadata": {
      "tags": []
     },
     "output_type": "execute_result"
    }
   ],
   "source": [
    "tf.print(y_pred)"
   ]
  },
  {
   "cell_type": "code",
   "execution_count": 0,
   "metadata": {
    "colab": {},
    "colab_type": "code",
    "id": "ctOw--_fXHiI"
   },
   "outputs": [],
   "source": [
    "s=[] \n",
    "i=0 \n",
    "while i<5000: \n",
    "      s.append(i)\n",
    "      i+=100"
   ]
  },
  {
   "cell_type": "markdown",
   "metadata": {
    "colab_type": "text",
    "id": "PsMHlELqW3gI"
   },
   "source": [
    "# Displaying & plotting Training Accuracy"
   ]
  },
  {
   "cell_type": "code",
   "execution_count": 0,
   "metadata": {
    "colab": {},
    "colab_type": "code",
    "id": "fgERNASnS7Hp"
   },
   "outputs": [],
   "source": [
    "training_train_accuracy_results"
   ]
  },
  {
   "cell_type": "code",
   "execution_count": 0,
   "metadata": {
    "colab": {
     "base_uri": "https://localhost:8080/",
     "height": 396
    },
    "colab_type": "code",
    "id": "BEw3Hb8BW4KX",
    "outputId": "8ac7a46e-ea51-4759-9633-0e8c98edefda"
   },
   "outputs": [
    {
     "data": {
      "image/png": "[encoded data removed]",
      "text/plain": [
       "<Figure size 576x396 with 1 Axes>"
      ]
     },
     "metadata": {
      "tags": []
     },
     "output_type": "display_data"
    }
   ],
   "source": [
    "plt.plot(np.array(training_train_accuracy_results),s )\n",
    "plt.xlabel('training Accuracy')\n",
    "plt.ylabel('Epoch')\n",
    "plt.title('Training Accuracy')\n",
    "plt.axis([0, 1, 0, 5000])\n",
    "plt.show()"
   ]
  },
  {
   "cell_type": "markdown",
   "metadata": {
    "colab_type": "text",
    "id": "nmOjAsgbW4jl"
   },
   "source": [
    "# Displaying & plotting Training loss"
   ]
  },
  {
   "cell_type": "code",
   "execution_count": 0,
   "metadata": {
    "colab": {},
    "colab_type": "code",
    "id": "u4knJ8RlXkFL"
   },
   "outputs": [],
   "source": [
    "training_test_loss_results"
   ]
  },
  {
   "cell_type": "code",
   "execution_count": 0,
   "metadata": {
    "colab": {
     "base_uri": "https://localhost:8080/",
     "height": 396
    },
    "colab_type": "code",
    "id": "qySDegXaXohK",
    "outputId": "8a99fb38-6d3b-4a40-f876-ceb1ddd52cf4"
   },
   "outputs": [
    {
     "data": {
      "image/png": "[encoded data removed]",
      "text/plain": [
       "<Figure size 576x396 with 1 Axes>"
      ]
     },
     "metadata": {
      "tags": []
     },
     "output_type": "display_data"
    }
   ],
   "source": [
    "plt.plot(np.array(training_test_loss_results),s )\n",
    "plt.xlabel('training loss')\n",
    "plt.ylabel('Epoch')\n",
    "plt.title('Taining loss')\n",
    "plt.axis([0, 15, 0, 5000])\n",
    "plt.show()"
   ]
  },
  {
   "cell_type": "markdown",
   "metadata": {
    "colab_type": "text",
    "id": "e6pGsAKwW6CX"
   },
   "source": [
    "# Displaying Validation Accuracy"
   ]
  },
  {
   "cell_type": "code",
   "execution_count": 0,
   "metadata": {
    "colab": {},
    "colab_type": "code",
    "id": "J_PIou7TX6EX"
   },
   "outputs": [],
   "source": [
    "validation_train_accuracy_results"
   ]
  },
  {
   "cell_type": "code",
   "execution_count": 0,
   "metadata": {
    "colab": {
     "base_uri": "https://localhost:8080/",
     "height": 396
    },
    "colab_type": "code",
    "id": "PAYkwbqMP5a5",
    "outputId": "92a6c0b7-69fa-4bf2-8678-e78009294a14"
   },
   "outputs": [
    {
     "data": {
      "image/png": "[encoded data removed]",
      "text/plain": [
       "<Figure size 576x396 with 1 Axes>"
      ]
     },
     "metadata": {
      "tags": []
     },
     "output_type": "display_data"
    }
   ],
   "source": [
    "plt.plot(np.array(validation_train_accuracy_results),s )\n",
    "plt.xlabel('validation Accuracy')\n",
    "plt.ylabel('Epoch')\n",
    "plt.title('Validation Accuracy')\n",
    "plt.axis([0, 1, 0, 5000])\n",
    "plt.show()"
   ]
  },
  {
   "cell_type": "markdown",
   "metadata": {
    "colab_type": "text",
    "id": "aVinHmR2W6vU"
   },
   "source": [
    "# Displaying Validation loss"
   ]
  },
  {
   "cell_type": "code",
   "execution_count": 0,
   "metadata": {
    "colab": {},
    "colab_type": "code",
    "id": "ZgBKoR9pYEio"
   },
   "outputs": [],
   "source": [
    " validation_test_loss_results"
   ]
  },
  {
   "cell_type": "code",
   "execution_count": 0,
   "metadata": {
    "colab": {
     "base_uri": "https://localhost:8080/",
     "height": 396
    },
    "colab_type": "code",
    "id": "aRZ-QkFsSR4y",
    "outputId": "c6d0498c-e7dc-4fd3-ecf8-8d32c93453ab"
   },
   "outputs": [
    {
     "data": {
      "image/png": "[encoded data removed]",
      "text/plain": [
       "<Figure size 576x396 with 1 Axes>"
      ]
     },
     "metadata": {
      "tags": []
     },
     "output_type": "display_data"
    }
   ],
   "source": [
    "\n",
    "plt.plot(np.array( validation_test_loss_results),s )\n",
    "plt.xlabel('validation loss')\n",
    "plt.ylabel('Epoch')\n",
    "plt.title('Validation Loss')\n",
    "\n",
    "plt.axis([0, 6, 0, 5000])\n",
    "plt.show()"
   ]
  },
  {
   "cell_type": "markdown",
   "metadata": {
    "colab_type": "text",
    "id": "RBfIY79XCCi-"
   },
   "source": [
    "# Input Image"
   ]
  },
  {
   "cell_type": "code",
   "execution_count": 0,
   "metadata": {
    "colab": {
     "base_uri": "https://localhost:8080/",
     "height": 347
    },
    "colab_type": "code",
    "id": "KNShm8lL_RwB",
    "outputId": "349cbd10-dc67-4b79-acc3-56d7187f933a"
   },
   "outputs": [
    {
     "data": {
      "image/png": "[encoded data removed]",
      "text/plain": [
       "<Figure size 576x396 with 1 Axes>"
      ]
     },
     "metadata": {
      "tags": []
     },
     "output_type": "display_data"
    }
   ],
   "source": [
    "plt.imshow(np.array(images[1940]).reshape(28,28))\n",
    "plt.show()"
   ]
  },
  {
   "cell_type": "code",
   "execution_count": 0,
   "metadata": {
    "colab": {
     "base_uri": "https://localhost:8080/",
     "height": 118
    },
    "colab_type": "code",
    "id": "8bmrMCFja0Mw",
    "outputId": "e1cdd9b4-e25a-42bf-9709-dd1ea14b8733"
   },
   "outputs": [
    {
     "name": "stdout",
     "output_type": "stream",
     "text": [
      "INFO:tensorflow:Restoring parameters from model/cnn_model_1_with_tamil.ckpt\n",
      "Tensor(\"Softmax_20:0\", shape=(1, 47), dtype=float32)\n",
      "[[0. 0. 0. 0. 0. 0. 0. 0. 0. 0. 0. 0. 0. 1. 0. 0. 0. 0. 0. 0. 0. 0. 0. 0.\n",
      "  0. 0. 0. 0. 0. 0. 0. 0. 0. 0. 0. 0. 0. 0. 0. 0. 0. 0. 0. 0. 0. 0. 0.]]\n",
      "The predicted character is : \"D\"\n",
      "13\n"
     ]
    }
   ],
   "source": [
    "from sklearn.metrics import log_loss\n",
    "\n",
    "with tf.Session() as sess:\n",
    "        sess.run(init)\n",
    "        saver.restore(sess, \"model/cnn_model_1_with_tamil.ckpt\")\n",
    "        \n",
    "        prediction=tf.argmax(y_pred,1)\n",
    "        var = prediction.eval(feed_dict={x: [images[1940]],hold_prob: 0.5}, session=sess)\n",
    "        var1=tf.nn.softmax(y_pred.eval(feed_dict={x: [images[1940]],hold_prob: 0.5}, session=sess))\n",
    "        print(var1)\n",
    "        var2=var1.eval(session=sess)\n",
    "        print(var2)\n",
    "labels_dict ={0:0,1:1,2:2,3:3,4:4,5:5,6:6,7:7,8:8,9:9,10:'A',11:'B',12:'C',13:'D',14:'E',15:'F',16:'G',17:'H',18:'I',19:'J',20:'K',21:'l',22:'M',23:'N',24:'O',25:'P',26:'Q',27:'R',28:'S',29:'T',30:'u',31:'V',32:'W',33:'X',34:'Y',35:'Z',36:'a',37:'b',38:'d',39:'e',40:'f',41:'g',42:'h',43:'n',44:'q',45:'r',46:'t'}\n",
    "print('The predicted character is : \"{}\"'.format(labels_dict[var[0]]))\n",
    "print(var[0])"
   ]
  },
  {
   "cell_type": "markdown",
   "metadata": {
    "colab_type": "text",
    "id": "PriKcyurfPsW"
   },
   "source": [
    "# Probabilistic Graph\n",
    "\n",
    "\n",
    "---\n",
    "\n"
   ]
  },
  {
   "cell_type": "code",
   "execution_count": 0,
   "metadata": {
    "colab": {
     "base_uri": "https://localhost:8080/",
     "height": 376
    },
    "colab_type": "code",
    "id": "H6n6kjiTBFjn",
    "outputId": "aef80b7d-8287-438e-e284-9be54bb55663"
   },
   "outputs": [
    {
     "data": {
      "image/png": "[encoded data removed]",
      "text/plain": [
       "<Figure size 576x396 with 1 Axes>"
      ]
     },
     "metadata": {
      "tags": []
     },
     "output_type": "display_data"
    }
   ],
   "source": [
    "s1=[] \n",
    "i=0 \n",
    "while i<47: \n",
    "      s1.append(i)\n",
    "      i+=1\n",
    "\n",
    "plt.scatter(s1, np.array(var2.ravel()))\n",
    "plt.scatter(np.argmax(np.array(var2)), np.max(np.array(var2)), c='red')\n",
    "plt.plot(s1,np.array(var2).ravel())\n",
    "plt.xlabel('classes')\n",
    "plt.ylabel('prediction')\n",
    "plt.title('Probabilistic graph')\n",
    "plt.show()"
   ]
  },
  {
   "cell_type": "code",
   "execution_count": 0,
   "metadata": {
    "colab": {},
    "colab_type": "code",
    "id": "C5UwHcfiZwNX"
   },
   "outputs": [],
   "source": []
  }
 ],
 "metadata": {
  "accelerator": "GPU",
  "colab": {
   "collapsed_sections": [
    "PsMHlELqW3gI",
    "nmOjAsgbW4jl",
    "e6pGsAKwW6CX",
    "aVinHmR2W6vU"
   ],
   "name": "Final_backendfile.ipynb",
   "provenance": [],
   "toc_visible": true,
   "version": "0.3.2"
  },
  "kernelspec": {
   "display_name": "Python 3",
   "language": "python",
   "name": "python3"
  },
  "language_info": {
   "codemirror_mode": {
    "name": "ipython",
    "version": 3
   },
   "file_extension": ".py",
   "mimetype": "text/x-python",
   "name": "python",
   "nbconvert_exporter": "python",
   "pygments_lexer": "ipython3",
   "version": "3.5.5"
  }
 },
 "nbformat": 4,
 "nbformat_minor": 1
}
